{
 "cells": [
  {
   "cell_type": "markdown",
   "id": "d849fc38-f180-4e10-8198-f3eb132c9e3c",
   "metadata": {},
   "source": [
    " qeuestion no.1 have 7 parts "
   ]
  },
  {
   "cell_type": "code",
   "execution_count": 18,
   "id": "aaf139c8-361b-4fb2-96c5-5ab570c3978f",
   "metadata": {},
   "outputs": [
    {
     "data": {
      "text/plain": [
       "[116,\n",
       " 114,\n",
       " 127,\n",
       " 92,\n",
       " 107,\n",
       " 91,\n",
       " 125,\n",
       " 108,\n",
       " 125,\n",
       " 108,\n",
       " 102,\n",
       " 92,\n",
       " 114,\n",
       " 101,\n",
       " 110,\n",
       " 124,\n",
       " 111,\n",
       " 92,\n",
       " 95,\n",
       " 94,\n",
       " 113,\n",
       " 121,\n",
       " 106,\n",
       " 95,\n",
       " 122,\n",
       " 119,\n",
       " 124,\n",
       " 103,\n",
       " 123,\n",
       " 129,\n",
       " 104,\n",
       " 118,\n",
       " 115,\n",
       " 126,\n",
       " 114,\n",
       " 119,\n",
       " 106,\n",
       " 99,\n",
       " 114,\n",
       " 116,\n",
       " 112,\n",
       " 97,\n",
       " 114,\n",
       " 91,\n",
       " 113,\n",
       " 115,\n",
       " 98,\n",
       " 97,\n",
       " 116,\n",
       " 93,\n",
       " 100,\n",
       " 120,\n",
       " 100,\n",
       " 100,\n",
       " 99,\n",
       " 96,\n",
       " 124,\n",
       " 91,\n",
       " 130,\n",
       " 111,\n",
       " 128,\n",
       " 97,\n",
       " 91,\n",
       " 129,\n",
       " 96,\n",
       " 126,\n",
       " 119,\n",
       " 103,\n",
       " 114,\n",
       " 104,\n",
       " 115,\n",
       " 119,\n",
       " 94,\n",
       " 90,\n",
       " 115,\n",
       " 103,\n",
       " 96,\n",
       " 124,\n",
       " 120,\n",
       " 95,\n",
       " 92,\n",
       " 98,\n",
       " 100,\n",
       " 112,\n",
       " 114,\n",
       " 115,\n",
       " 105,\n",
       " 93,\n",
       " 91,\n",
       " 105,\n",
       " 109,\n",
       " 113,\n",
       " 113,\n",
       " 104,\n",
       " 101,\n",
       " 93,\n",
       " 93,\n",
       " 96,\n",
       " 121,\n",
       " 91]"
      ]
     },
     "execution_count": 18,
     "metadata": {},
     "output_type": "execute_result"
    }
   ],
   "source": [
    "# 1.generate a list of hundred intigers containiing values between 90-130 and store it in a variable \"int_list\". after generating the list, find the following\n",
    "\n",
    "\n",
    "import pandas as pd\n",
    "import numpy as np\n",
    "import matplotlib.pyplot as plt\n",
    "import seaborn as sns\n",
    "\n",
    "int_list=np.random.randint(90, 131, 100)\n",
    "int_list=list(int_list)\n",
    "int_list"
   ]
  },
  {
   "cell_type": "code",
   "execution_count": 19,
   "id": "77f5099e-8704-4c48-8b9c-2484371d4978",
   "metadata": {},
   "outputs": [
    {
     "data": {
      "text/plain": [
       "108.0"
      ]
     },
     "execution_count": 19,
     "metadata": {},
     "output_type": "execute_result"
    }
   ],
   "source": [
    "# \n",
    "\n",
    "# (1). write a python function to calculate the mean of a given list of numbers. craete a funtion to find the median of  a list of numbers.\n",
    "\n",
    "# for mean\n",
    "def calculate_mean(numbers):\n",
    "    if len(numbers) == 0:\n",
    "        return 0\n",
    "    return (sum(numbers) / len(numbers))\n",
    "calculate_mean(int_list)\n",
    "\n",
    "# for median\n",
    "\n",
    "def calculate_median(numbers):\n",
    "    if len(numbers) == 0:\n",
    "        return 0\n",
    "    \n",
    "    sort_num= sorted(numbers)\n",
    "    n=len(sort_num)\n",
    "    mid=n//2\n",
    "    \n",
    "    if n % 2==0:\n",
    "        return(sort_num[mid-1] + sort_num[mid]) / 2\n",
    "    else:\n",
    "        return sort_num[mid]\n",
    "calculate_median(int_list)"
   ]
  },
  {
   "cell_type": "code",
   "execution_count": 20,
   "id": "ab3019d2-0621-4850-b8a4-26fa18c4cfe1",
   "metadata": {},
   "outputs": [
    {
     "data": {
      "text/plain": [
       "[114]"
      ]
     },
     "execution_count": 20,
     "metadata": {},
     "output_type": "execute_result"
    }
   ],
   "source": [
    "# 1. (2). develop a program to compute the mode of a list of integers\n",
    "\n",
    "from collections import Counter\n",
    "def calculate_mode(numbers):\n",
    "    if len(numbers) == 0:\n",
    "        return 0\n",
    "    frequency =Counter(numbers)\n",
    "    \n",
    "    max_frequency = max(frequency.values())\n",
    "    \n",
    "    mode = [num for num, freq in frequency.items()\n",
    "           if freq == max_frequency]\n",
    "    return mode\n",
    "calculate_mode(int_list)"
   ]
  },
  {
   "cell_type": "code",
   "execution_count": 21,
   "id": "06daa96c-e669-414b-9f1d-8ac8b4b68180",
   "metadata": {},
   "outputs": [],
   "source": [
    "# 1. (3). impliment a function to calculate the weighed mean of a list of values and there corresponding weighted.\n",
    "\n",
    "def calculate_weighedmean(values, weights):\n",
    "    if not values or not weight or len(values) != len (weights):\n",
    "        raise ValueError('value and weight must not be empty and of the same lenght')\n",
    "    \n",
    "    weighed_sum = sum(values *weight for value, weight in zip(values, weights))\n",
    "    \n",
    "    total_weight = sum(weights)\n",
    "    \n",
    "    if total_weight == 0:\n",
    "        raise ValueError('total weight can to bezero')\n",
    "        return weighrd_sum / total_weght"
   ]
  },
  {
   "cell_type": "code",
   "execution_count": 26,
   "id": "38156453-96b9-46f5-8185-bd237c272079",
   "metadata": {},
   "outputs": [
    {
     "name": "stderr",
     "output_type": "stream",
     "text": [
      "/tmp/ipykernel_5227/3641063261.py:11: RuntimeWarning: overflow encountered in long_scalars\n",
      "  product = reduce(lambda x, y: x * y, numbers)\n"
     ]
    },
    {
     "data": {
      "text/plain": [
       "0.0"
      ]
     },
     "execution_count": 26,
     "metadata": {},
     "output_type": "execute_result"
    }
   ],
   "source": [
    "# 1. (4) write a python function to find the geometrical mean of a list of possitive number.\n",
    "\n",
    "import math\n",
    "from functools import reduce\n",
    "\n",
    "def geometrical_mean(numbers):\n",
    "    if not numbers:\n",
    "        raise ValueError('the list must not be empty')\n",
    "    if any(n <= 0 for n in numbers):\n",
    "        raise ValueError('all numbers must be possitive')\n",
    "    product = reduce(lambda x, y: x * y, numbers)\n",
    "    \n",
    "    return math.pow(product, 1/len(numbers))\n",
    "\n",
    "geometrical_mean(int_list)"
   ]
  },
  {
   "cell_type": "code",
   "execution_count": 28,
   "id": "37488d3b-fc5c-4a07-b96a-c523ec84284c",
   "metadata": {},
   "outputs": [
    {
     "data": {
      "text/plain": [
       "106.62581430485271"
      ]
     },
     "execution_count": 28,
     "metadata": {},
     "output_type": "execute_result"
    }
   ],
   "source": [
    "# 1. (5). create a program to calculate the harmonic mean of a list of values.\n",
    "def harmonic_mean(numbers):\n",
    "    if not numbers:\n",
    "        raise ValueEerror('the list of values must not be empty')\n",
    "    if any(n <= 0 for n in numbers):\n",
    "        raise ValueError('all values must be possitive')\n",
    "    n_= len(numbers)    \n",
    "    reciprocal_sum = sum(1 / n for n in numbers)\n",
    "    return n_ / reciprocal_sum\n",
    "harmonic_mean(int_list)"
   ]
  },
  {
   "cell_type": "code",
   "execution_count": 29,
   "id": "3128690b-8f60-4caf-a813-04fa3db2eea2",
   "metadata": {},
   "outputs": [
    {
     "data": {
      "text/plain": [
       "155.0"
      ]
     },
     "execution_count": 29,
     "metadata": {},
     "output_type": "execute_result"
    }
   ],
   "source": [
    "# 1. (6). build a function to determine the mid range of a list of numbers (average of the minimum and naximum)\n",
    "def mid_range(numbers):\n",
    "    if not numbers:\n",
    "        raise ValueError('the list of number must not be empty')\n",
    "    min_value= min(numbers)\n",
    "    max_value=max(numbers)\n",
    "    return (min_value + max_value / 2)\n",
    "mid_range(int_list)"
   ]
  },
  {
   "cell_type": "code",
   "execution_count": 30,
   "id": "47844809-a604-4611-9ea2-8a3255601bee",
   "metadata": {},
   "outputs": [
    {
     "data": {
      "text/plain": [
       "107.53333333333333"
      ]
     },
     "execution_count": 30,
     "metadata": {},
     "output_type": "execute_result"
    }
   ],
   "source": [
    "# 1. (7). impliment a python program to find the trimmed mean of a list, excluding certain pecentage of outliers.\n",
    "def trimmed_mean(numbers, trim_percentage):\n",
    "    if not numbers:\n",
    "        raise ValueError('the list of numbers must not be empty ')\n",
    "    if not (0 <= trim_percentage < 50):\n",
    "        raise ValueError('the list is too small to trim this percentage')\n",
    "    \n",
    "    n=len(numbers)\n",
    "    sort_num= sorted(numbers)\n",
    "    trim_count= int(n* trim_percentage / 100)\n",
    "    trimmed_num= sort_num[trim_count: - trim_count]\n",
    "    return sum(trimmed_num)/len(trimmed_num)\n",
    "trimmed_mean(int_list, 20)"
   ]
  },
  {
   "cell_type": "code",
   "execution_count": 31,
   "id": "9bc598a7-b57b-4b80-82dc-8800fed0f865",
   "metadata": {},
   "outputs": [
    {
     "data": {
      "text/plain": [
       "[239,\n",
       " 261,\n",
       " 245,\n",
       " 215,\n",
       " 256,\n",
       " 293,\n",
       " 205,\n",
       " 288,\n",
       " 260,\n",
       " 280,\n",
       " 289,\n",
       " 219,\n",
       " 203,\n",
       " 270,\n",
       " 217,\n",
       " 294,\n",
       " 250,\n",
       " 232,\n",
       " 289,\n",
       " 210,\n",
       " 294,\n",
       " 231,\n",
       " 297,\n",
       " 255,\n",
       " 223,\n",
       " 245,\n",
       " 284,\n",
       " 261,\n",
       " 227,\n",
       " 200,\n",
       " 259,\n",
       " 254,\n",
       " 264,\n",
       " 248,\n",
       " 202,\n",
       " 211,\n",
       " 233,\n",
       " 287,\n",
       " 234,\n",
       " 242,\n",
       " 229,\n",
       " 245,\n",
       " 245,\n",
       " 208,\n",
       " 222,\n",
       " 258,\n",
       " 216,\n",
       " 270,\n",
       " 239,\n",
       " 271,\n",
       " 270,\n",
       " 227,\n",
       " 299,\n",
       " 256,\n",
       " 300,\n",
       " 292,\n",
       " 286,\n",
       " 287,\n",
       " 294,\n",
       " 295,\n",
       " 221,\n",
       " 213,\n",
       " 220,\n",
       " 271,\n",
       " 238,\n",
       " 225,\n",
       " 252,\n",
       " 201,\n",
       " 210,\n",
       " 220,\n",
       " 264,\n",
       " 271,\n",
       " 234,\n",
       " 274,\n",
       " 228,\n",
       " 293,\n",
       " 266,\n",
       " 230,\n",
       " 289,\n",
       " 269,\n",
       " 241,\n",
       " 239,\n",
       " 296,\n",
       " 273,\n",
       " 246,\n",
       " 289,\n",
       " 259,\n",
       " 208,\n",
       " 289,\n",
       " 271,\n",
       " 299,\n",
       " 288,\n",
       " 259,\n",
       " 237,\n",
       " 296,\n",
       " 233,\n",
       " 266,\n",
       " 216,\n",
       " 203,\n",
       " 203,\n",
       " 244,\n",
       " 220,\n",
       " 202,\n",
       " 226,\n",
       " 289,\n",
       " 234,\n",
       " 232,\n",
       " 261,\n",
       " 300,\n",
       " 202,\n",
       " 210,\n",
       " 259,\n",
       " 273,\n",
       " 273,\n",
       " 241,\n",
       " 271,\n",
       " 234,\n",
       " 299,\n",
       " 235,\n",
       " 209,\n",
       " 287,\n",
       " 243,\n",
       " 262,\n",
       " 228,\n",
       " 204,\n",
       " 259,\n",
       " 294,\n",
       " 215,\n",
       " 233,\n",
       " 293,\n",
       " 284,\n",
       " 229,\n",
       " 283,\n",
       " 225,\n",
       " 226,\n",
       " 233,\n",
       " 248,\n",
       " 214,\n",
       " 264,\n",
       " 223,\n",
       " 224,\n",
       " 244,\n",
       " 223,\n",
       " 275,\n",
       " 245,\n",
       " 286,\n",
       " 272,\n",
       " 257,\n",
       " 267,\n",
       " 259,\n",
       " 300,\n",
       " 291,\n",
       " 214,\n",
       " 262,\n",
       " 202,\n",
       " 237,\n",
       " 266,\n",
       " 222,\n",
       " 219,\n",
       " 249,\n",
       " 258,\n",
       " 201,\n",
       " 209,\n",
       " 279,\n",
       " 287,\n",
       " 263,\n",
       " 234,\n",
       " 249,\n",
       " 216,\n",
       " 274,\n",
       " 300,\n",
       " 231,\n",
       " 241,\n",
       " 281,\n",
       " 244,\n",
       " 234,\n",
       " 283,\n",
       " 210,\n",
       " 285,\n",
       " 275,\n",
       " 251,\n",
       " 262,\n",
       " 251,\n",
       " 204,\n",
       " 242,\n",
       " 271,\n",
       " 280,\n",
       " 215,\n",
       " 282,\n",
       " 237,\n",
       " 289,\n",
       " 225,\n",
       " 281,\n",
       " 269,\n",
       " 282,\n",
       " 235,\n",
       " 264,\n",
       " 254,\n",
       " 248,\n",
       " 240,\n",
       " 291,\n",
       " 229,\n",
       " 265,\n",
       " 219,\n",
       " 224,\n",
       " 256,\n",
       " 292,\n",
       " 232,\n",
       " 299,\n",
       " 263,\n",
       " 266,\n",
       " 249,\n",
       " 254,\n",
       " 220,\n",
       " 232,\n",
       " 221,\n",
       " 236,\n",
       " 293,\n",
       " 211,\n",
       " 210,\n",
       " 247,\n",
       " 264,\n",
       " 233,\n",
       " 274,\n",
       " 270,\n",
       " 297,\n",
       " 269,\n",
       " 288,\n",
       " 280,\n",
       " 247,\n",
       " 223,\n",
       " 271,\n",
       " 259,\n",
       " 242,\n",
       " 227,\n",
       " 288,\n",
       " 268,\n",
       " 245,\n",
       " 239,\n",
       " 212,\n",
       " 210,\n",
       " 250,\n",
       " 291,\n",
       " 253,\n",
       " 296,\n",
       " 215,\n",
       " 204,\n",
       " 244,\n",
       " 251,\n",
       " 213,\n",
       " 266,\n",
       " 218,\n",
       " 228,\n",
       " 221,\n",
       " 286,\n",
       " 298,\n",
       " 227,\n",
       " 268,\n",
       " 236,\n",
       " 274,\n",
       " 227,\n",
       " 207,\n",
       " 270,\n",
       " 259,\n",
       " 281,\n",
       " 298,\n",
       " 227,\n",
       " 286,\n",
       " 225,\n",
       " 267,\n",
       " 224,\n",
       " 206,\n",
       " 298,\n",
       " 222,\n",
       " 253,\n",
       " 267,\n",
       " 281,\n",
       " 290,\n",
       " 273,\n",
       " 202,\n",
       " 212,\n",
       " 242,\n",
       " 250,\n",
       " 251,\n",
       " 222,\n",
       " 275,\n",
       " 265,\n",
       " 200,\n",
       " 253,\n",
       " 232,\n",
       " 215,\n",
       " 246,\n",
       " 262,\n",
       " 300,\n",
       " 277,\n",
       " 299,\n",
       " 272,\n",
       " 241,\n",
       " 245,\n",
       " 223,\n",
       " 267,\n",
       " 236,\n",
       " 245,\n",
       " 286,\n",
       " 234,\n",
       " 203,\n",
       " 256,\n",
       " 205,\n",
       " 207,\n",
       " 235,\n",
       " 235,\n",
       " 220,\n",
       " 224,\n",
       " 213,\n",
       " 268,\n",
       " 210,\n",
       " 274,\n",
       " 296,\n",
       " 283,\n",
       " 276,\n",
       " 226,\n",
       " 291,\n",
       " 209,\n",
       " 206,\n",
       " 289,\n",
       " 262,\n",
       " 208,\n",
       " 262,\n",
       " 296,\n",
       " 276,\n",
       " 244,\n",
       " 282,\n",
       " 277,\n",
       " 204,\n",
       " 281,\n",
       " 210,\n",
       " 270,\n",
       " 295,\n",
       " 200,\n",
       " 223,\n",
       " 272,\n",
       " 285,\n",
       " 230,\n",
       " 259,\n",
       " 201,\n",
       " 243,\n",
       " 266,\n",
       " 200,\n",
       " 269,\n",
       " 284,\n",
       " 209,\n",
       " 236,\n",
       " 282,\n",
       " 225,\n",
       " 260,\n",
       " 205,\n",
       " 240,\n",
       " 204,\n",
       " 265,\n",
       " 245,\n",
       " 238,\n",
       " 255,\n",
       " 200,\n",
       " 268,\n",
       " 281,\n",
       " 237,\n",
       " 204,\n",
       " 207,\n",
       " 231,\n",
       " 300,\n",
       " 217,\n",
       " 266,\n",
       " 270,\n",
       " 278,\n",
       " 292,\n",
       " 212,\n",
       " 248,\n",
       " 279,\n",
       " 296,\n",
       " 243,\n",
       " 297,\n",
       " 266,\n",
       " 234,\n",
       " 295,\n",
       " 207,\n",
       " 249,\n",
       " 228,\n",
       " 284,\n",
       " 251,\n",
       " 233,\n",
       " 247,\n",
       " 250,\n",
       " 200,\n",
       " 209,\n",
       " 267,\n",
       " 273,\n",
       " 228,\n",
       " 251,\n",
       " 259,\n",
       " 214,\n",
       " 224,\n",
       " 291,\n",
       " 230,\n",
       " 283,\n",
       " 298,\n",
       " 271,\n",
       " 297,\n",
       " 256,\n",
       " 293,\n",
       " 206,\n",
       " 268,\n",
       " 278,\n",
       " 243,\n",
       " 220,\n",
       " 242,\n",
       " 205,\n",
       " 283,\n",
       " 228,\n",
       " 241,\n",
       " 221,\n",
       " 217,\n",
       " 217,\n",
       " 252,\n",
       " 244,\n",
       " 244,\n",
       " 289,\n",
       " 233,\n",
       " 217,\n",
       " 270,\n",
       " 239,\n",
       " 230,\n",
       " 282,\n",
       " 269,\n",
       " 232,\n",
       " 275,\n",
       " 277,\n",
       " 243,\n",
       " 238,\n",
       " 240,\n",
       " 300,\n",
       " 206,\n",
       " 230,\n",
       " 203,\n",
       " 214,\n",
       " 243,\n",
       " 291,\n",
       " 213,\n",
       " 215,\n",
       " 226,\n",
       " 286,\n",
       " 231,\n",
       " 286,\n",
       " 267,\n",
       " 262,\n",
       " 266,\n",
       " 255,\n",
       " 246,\n",
       " 264,\n",
       " 208,\n",
       " 209,\n",
       " 229,\n",
       " 297,\n",
       " 201,\n",
       " 287,\n",
       " 221,\n",
       " 300,\n",
       " 287,\n",
       " 263,\n",
       " 236,\n",
       " 222,\n",
       " 236,\n",
       " 259,\n",
       " 213,\n",
       " 268,\n",
       " 255,\n",
       " 297,\n",
       " 253,\n",
       " 263,\n",
       " 214,\n",
       " 278,\n",
       " 216,\n",
       " 227,\n",
       " 282,\n",
       " 251,\n",
       " 261,\n",
       " 300,\n",
       " 248,\n",
       " 206,\n",
       " 202,\n",
       " 247,\n",
       " 278,\n",
       " 248,\n",
       " 283,\n",
       " 251,\n",
       " 233,\n",
       " 295,\n",
       " 256,\n",
       " 204,\n",
       " 209,\n",
       " 276]"
      ]
     },
     "execution_count": 31,
     "metadata": {},
     "output_type": "execute_result"
    }
   ],
   "source": [
    "# 2. geneurate a list of 500 integers  contining values between 200 to 300 and store it inn a variable 'int_list2'.\n",
    "# after generating list , find these followings.\n",
    "import numpy as np\n",
    "int_list2=np.random.randint(200, 301, 500).tolist()\n",
    "int_list2"
   ]
  },
  {
   "cell_type": "markdown",
   "id": "fb23a1de-51ec-4ebf-aa9f-7be895e34811",
   "metadata": {},
   "source": [
    "start from question no.2 with its parts"
   ]
  },
  {
   "cell_type": "code",
   "execution_count": 32,
   "id": "d94c0829-0e67-4602-9c37-ec96c56b96c7",
   "metadata": {},
   "outputs": [
    {
     "data": {
      "image/png": "[encoded data removed]",
      "text/plain": [
       "<Figure size 1000x700 with 2 Axes>"
      ]
     },
     "metadata": {},
     "output_type": "display_data"
    }
   ],
   "source": [
    "# 2.  (1)comparinng the given list of isalisation for the given data:\n",
    "           # 1. frequenccy and gaucien distribution \n",
    "# frequency distribution\n",
    "from scipy.stats import norm\n",
    "import matplotlib.pyplot as plt\n",
    "import warnings\n",
    "warnings.filterwarnings('ignore')\n",
    "# using int_list2\n",
    "plt.figure(figsize=(10,7))\n",
    "plt.subplot(1,2,1)\n",
    "plt.hist(int_list2, bins=30, color= 'red')\n",
    "plt.title('frequency  distribution plot')\n",
    "plt.xlabel('data')\n",
    "plt.ylabel('frequency')\n",
    "# plt.show()\n",
    "\n",
    "# gausian distribution(normal distribuion)\n",
    "plt.subplot(1,2,2)\n",
    "y=norm.pdf(int_list2, np.mean(int_list2),np.std(int_list2))\n",
    "plt.plot(int_list2, y, color='purple')\n",
    "plt.title('gausian distribution')\n",
    "plt.xlabel('data')\n",
    "plt.ylabel('frequency')\n",
    "plt.show()"
   ]
  },
  {
   "cell_type": "code",
   "execution_count": 33,
   "id": "8fd1e6b1-b73a-4534-8a82-c3853982ca61",
   "metadata": {},
   "outputs": [
    {
     "data": {
      "image/png": "[encoded data removed]",
      "text/plain": [
       "<Figure size 700x400 with 2 Axes>"
      ]
     },
     "metadata": {},
     "output_type": "display_data"
    }
   ],
   "source": [
    "# 2.  >>  (1). >> (2).frequency smoothened kde plot\n",
    "import seaborn as sns\n",
    "# using int_list2\n",
    "plt.figure(figsize=(7,4))\n",
    "plt.subplot(1,2,1)\n",
    "plt.hist(int_list2, bins=30, color= 'purple')\n",
    "plt.title('frequency  distribution plot')\n",
    "plt.xlabel('data')\n",
    "plt.ylabel('frequency')\n",
    "\n",
    "plt.subplot(1,2,2)\n",
    "sns.kdeplot(int_list2, fill=True, color= 'red')\n",
    "plt.title('kdeplot')\n",
    "plt.xlabel('data')\n",
    "plt.show()\n"
   ]
  },
  {
   "cell_type": "code",
   "execution_count": 34,
   "id": "4d8e2a63-5adb-45c4-afb2-d14316cbc674",
   "metadata": {},
   "outputs": [
    {
     "data": {
      "image/png": "[encoded data removed]",
      "text/plain": [
       "<Figure size 700x500 with 2 Axes>"
      ]
     },
     "metadata": {},
     "output_type": "display_data"
    }
   ],
   "source": [
    "# 2. (1). (3). gausian distibution and smoothened kde plot\n",
    "# kde plot\n",
    "plt.figure(figsize=(7,5))\n",
    "plt.subplot(1,2,1)\n",
    "sns.kdeplot(int_list2, fill=True, color= 'blue', linestyle= '--', bw_adjust=2.0)\n",
    "plt.title('kdeplot')\n",
    "plt.xlabel('data')\n",
    "\n",
    "# gausian distribution\n",
    "plt.subplot(1,2,2)\n",
    "y=norm.pdf(int_list2, np.mean(int_list2),np.std(int_list2))\n",
    "plt.plot(int_list2, y, color='purple')\n",
    "plt.title('gausian distribution')\n",
    "plt.xlabel('data')\n",
    "plt.ylabel('frequency')\n",
    "plt.show()"
   ]
  },
  {
   "cell_type": "code",
   "execution_count": 35,
   "id": "74e22824-6958-47c0-bfea-3f1a368422f3",
   "metadata": {},
   "outputs": [
    {
     "data": {
      "text/plain": [
       "100"
      ]
     },
     "execution_count": 35,
     "metadata": {},
     "output_type": "execute_result"
    }
   ],
   "source": [
    "# 2. (2). write a python function to calculate the range of a given list of numbers.\n",
    "def cal_range(number):\n",
    "    if not number:\n",
    "        raise ValueError('the list is empty')\n",
    "    return max(number)- min(number)  \n",
    "cal_range(int_list2)"
   ]
  },
  {
   "cell_type": "code",
   "execution_count": 36,
   "id": "f010e79d-586b-40f5-9042-7274170e0ea1",
   "metadata": {},
   "outputs": [
    {
     "data": {
      "text/plain": [
       "(859.8525691382763, 29.32324281416154)"
      ]
     },
     "execution_count": 36,
     "metadata": {},
     "output_type": "execute_result"
    }
   ],
   "source": [
    "# 2. (3).create a program to find the variance and the standardeviatio of alist of numbers.\n",
    "import math\n",
    "def cal_var_and_std(numbers):\n",
    "    if len(numbers)<2:\n",
    "        raise ValueError('at least two numbers are required')\n",
    "    mean=sum(numbers)/len(numbers)\n",
    "    varience=sum((x-mean) ** 2 for x in numbers)/(len(numbers)-1)\n",
    "    stddev=math.sqrt(varience)\n",
    "    return varience, stddev\n",
    "cal_var_and_std(int_list2)"
   ]
  },
  {
   "cell_type": "code",
   "execution_count": 37,
   "id": "439ae5fe-2bd9-4966-b337-db0e0fcc037a",
   "metadata": {},
   "outputs": [
    {
     "data": {
      "text/plain": [
       "49.0"
      ]
     },
     "execution_count": 37,
     "metadata": {},
     "output_type": "execute_result"
    }
   ],
   "source": [
    "# 2. (4). impliment a function to compute the interquantile range (IQR) of a list of values.\n",
    "def IQR(numbers):\n",
    "    if len(numbers)<2:\n",
    "        raise ValueError('at last two vvalues are equired to calculate the IQR')\n",
    "    numbers=np.sort(numbers)\n",
    "    q1=np.percentile(numbers, 25)\n",
    "    q2=np.percentile(numbers, 50)\n",
    "    q3=np.percentile(numbers, 75)\n",
    "    \n",
    "    IQR=q3 - q1\n",
    "    \n",
    "    return IQR\n",
    "\n",
    "IQR(int_list2)"
   ]
  },
  {
   "cell_type": "code",
   "execution_count": 38,
   "id": "937d16e4-23cf-425e-96ac-fcc6bcae184f",
   "metadata": {},
   "outputs": [
    {
     "data": {
      "text/plain": [
       "11.720187279969114"
      ]
     },
     "execution_count": 38,
     "metadata": {},
     "output_type": "execute_result"
    }
   ],
   "source": [
    "# 2. (5). built a program to calculate the  coefficent of variation for a dataset.\n",
    "def cal_coeff(numbers):\n",
    "    if len(numbers)<2:\n",
    "        raise ValueError('atleast two numbers two values are required to calculate the coefficiet of varience.')\n",
    "    mean=np.mean(numbers)\n",
    "    stddev=np.std(numbers)\n",
    "    \n",
    "#     calculate the coeff\n",
    "    \n",
    "    coefficient=(stddev / mean ) * 100\n",
    "        \n",
    "    return coefficient\n",
    "\n",
    "cal_coeff(int_list2)\n",
    "        "
   ]
  },
  {
   "cell_type": "code",
   "execution_count": 39,
   "id": "9b5ad05d-6157-428e-b572-03f3d060ab29",
   "metadata": {},
   "outputs": [
    {
     "data": {
      "text/plain": [
       "25.363552"
      ]
     },
     "execution_count": 39,
     "metadata": {},
     "output_type": "execute_result"
    }
   ],
   "source": [
    "# 2.  (6).write a python fuction to find the mean obsolute variation (MAD) of a list of numbers.\n",
    "\n",
    "def mean_absolute(numbers):\n",
    "    if len(numbers)<1:\n",
    "        raise ValueError('at least 1 number is required to calculate the MAD')\n",
    "    mean= np.mean(numbers)\n",
    "    absolute_deviation = np.abs(numbers - mean)\n",
    "    \n",
    "#     calculating the MAD\n",
    "    MAD=np.mean(absolute_deviation)\n",
    "    return MAD\n",
    "mean_absolute(int_list2)"
   ]
  },
  {
   "cell_type": "code",
   "execution_count": 40,
   "id": "58471574-34e1-49aa-881b-13be6bbf14f7",
   "metadata": {},
   "outputs": [
    {
     "data": {
      "text/plain": [
       "24.5"
      ]
     },
     "execution_count": 40,
     "metadata": {},
     "output_type": "execute_result"
    }
   ],
   "source": [
    "# 2. (7). create a program to calculate the quartile deviation of a list  of values\n",
    "def qrtl_dev(numbers):\n",
    "    if len(numbers)<2:\n",
    "        raise ValueError('at last two vvalues are equired to calculate the IQR')\n",
    "    numbers=np.sort(numbers)\n",
    "    q1=np.percentile(numbers, 25)\n",
    "    # q2=np.percentile(numbers, 50)\n",
    "    q3=np.percentile(numbers, 75)\n",
    "    \n",
    "    quartile_deviation=(q3 - q1) / 2\n",
    "    return quartile_deviation\n",
    "qrtl_dev(int_list2)"
   ]
  },
  {
   "cell_type": "code",
   "execution_count": 41,
   "id": "37d2d3f4-79ff-4623-a6aa-524f28712948",
   "metadata": {},
   "outputs": [
    {
     "data": {
      "text/plain": [
       "40.00896200748968"
      ]
     },
     "execution_count": 41,
     "metadata": {},
     "output_type": "execute_result"
    }
   ],
   "source": [
    "# 2. (8).implement a function to find the range_based coefficient of dispersion for a dataset.\n",
    "def coeff_dispersion(numbers):\n",
    "    if len(numbers)<2:\n",
    "        raise ValueError('at least two values are required for calclating the coeff of dispersin')\n",
    "    numbers=np.array(numbers)\n",
    "    range_value=np.max(numbers) - np.min(numbers)\n",
    "    \n",
    "    mean=np.mean(numbers)\n",
    "    \n",
    "#     calculating the range based coeff dispersion\n",
    "    if mean ==0:\n",
    "        raise ValueError('mean is zero, can not calculates coeff_dispersion')\n",
    "    coeff_dispersion=(range_value / mean) * 100\n",
    "    \n",
    "    return coeff_dispersion\n",
    "\n",
    "coeff_dispersion(int_list2)"
   ]
  },
  {
   "cell_type": "code",
   "execution_count": 42,
   "id": "ecc72dfe-2963-4528-b538-bfdfd1bb2549",
   "metadata": {},
   "outputs": [],
   "source": [
    "# 3.write a python class representing a discewate random variable with methods to calculate its expected value and varience.\n",
    "class DiscreteRabdomVariable:\n",
    "    def __init__(sef, outcomes, probabilities):\n",
    "        if len(outcomes) != (probabilities):\n",
    "            raise ValueError('outcomes and the probabilities must have the same length')\n",
    "        if not np.isclose(sum(probabilities),1):\n",
    "            raise ValueError('probabilities must sum to 1.')\n",
    "        if any( p < 0 for p in probabilities ):\n",
    "            raise ValueError('probability must be not  negative.')\n",
    "            self.otcomes=np.array(outcomes)\n",
    "            self.probability=np.array(probabilities)\n",
    "        def expectd_value(self):\n",
    "            return np.sum(self.outcomes * self.probabilities)\n",
    "        def variance(self):\n",
    "            mean=self.expected_value()\n",
    "            sqrd_diffs=(self. outcomes - mean) ** 2\n",
    "            return np.sum(sqrd_diffs * self.probabilities)"
   ]
  },
  {
   "cell_type": "code",
   "execution_count": 43,
   "id": "14962a30-bf05-45d5-bffb-dfd05a0e57ce",
   "metadata": {},
   "outputs": [
    {
     "name": "stdout",
     "output_type": "stream",
     "text": [
      " Expected_value: 3.5066\n",
      "2.935956439999835\n"
     ]
    }
   ],
   "source": [
    "# 4.impliment a program to simulate a rolling of a six-sided dice aand calculate the expected value and varience of the outcomes.\n",
    "import random\n",
    "\n",
    "def roll_die():\n",
    "    return random.randint(1,6)\n",
    "\n",
    "def simulate_rolls(n):\n",
    "    rolls = [roll_die() for _ in range(n)]\n",
    "    return rolls\n",
    "\n",
    "def calculate_expected_value(rolls):\n",
    "    return sum(rolls) / len(rolls)\n",
    "\n",
    "def calculate_varience(rolls, expected_value):\n",
    "    return sum((x- expected_value) ** 2 for x in rolls) / len (rolls)\n",
    "\n",
    "n=10000\n",
    "rolls= simulate_rolls(n)\n",
    "\n",
    "expected_value= calculate_expected_value(rolls)\n",
    "print(f\" Expected_value: {expected_value}\")\n",
    "\n",
    "varience=calculate_varience(rolls, expected_value)\n",
    "print(varience)"
   ]
  },
  {
   "cell_type": "code",
   "execution_count": 44,
   "id": "19094b8a-ba67-4128-b836-baa8299c52a8",
   "metadata": {},
   "outputs": [
    {
     "data": {
      "text/plain": [
       "(array([ 2,  3,  3,  3,  1,  0,  4,  4,  4,  8,  2,  2,  3,  6,  7,  3,  3,\n",
       "         2,  6,  8,  1,  3,  4,  1,  3,  1,  1,  2,  2,  3,  8,  5,  1,  3,\n",
       "         3,  5,  3,  2,  0,  3,  3,  2,  2,  0,  1,  2,  1,  3,  1,  6,  3,\n",
       "         2,  5,  1,  5,  2,  2,  4,  3,  3,  2,  3,  0,  5,  0,  3,  1,  1,\n",
       "         2,  7,  1,  2,  3,  1,  2,  1,  6,  0,  3,  3,  2,  5,  6,  1,  1,\n",
       "         3,  5,  2,  6,  3,  3,  4,  1,  1,  1,  4,  6,  2,  6,  4,  1,  2,\n",
       "         5,  2,  3,  4,  4,  2,  4,  3,  2,  2,  3,  1,  5,  2,  2,  1,  3,\n",
       "         4,  6,  1,  5,  5,  1,  2,  2,  1,  0,  1,  2,  3,  1,  4,  4,  2,\n",
       "         2,  2,  3,  5,  6,  3,  5,  2,  2,  2,  6,  2,  3,  2,  5,  4,  3,\n",
       "         3,  3,  3,  0,  7,  1,  5,  4,  3,  1,  5,  3,  2,  2,  3,  1,  4,\n",
       "         3,  2,  3,  3,  0,  5,  3,  4,  6,  1,  1,  5,  0,  2,  4,  4,  5,\n",
       "         3,  0,  2,  4,  5,  2,  1,  3,  0,  3,  0,  4,  1,  3,  1,  3,  1,\n",
       "         3,  4,  2,  5,  3,  2,  2,  1,  5,  1,  2,  3,  3,  5,  2,  2,  2,\n",
       "         4,  2,  3,  2,  3,  5,  2,  3,  4,  2,  3,  5,  2,  4,  5,  0,  3,\n",
       "         3,  1,  3,  2,  2,  1,  2,  1,  0,  3,  1,  3,  3,  1,  6,  1,  4,\n",
       "         2,  3,  2,  2,  5,  1,  2,  4,  4,  3,  2,  2,  5,  2,  0,  5,  0,\n",
       "         4,  2,  2,  1,  2,  7,  3,  3,  1,  2,  3,  3,  2,  4,  3,  2,  1,\n",
       "         2,  6,  3,  7,  2,  2,  5,  8,  4,  2,  2,  4,  5,  2,  3,  2,  2,\n",
       "         2,  1,  6,  1,  4,  2,  1,  5,  1,  2,  5,  0,  3,  2,  2,  2,  0,\n",
       "         1,  2,  6,  0,  7,  7,  1,  1,  3,  1,  2,  6,  5,  2,  1,  1,  6,\n",
       "         3,  2,  1,  7,  1,  2,  5,  3,  2,  3,  5,  5,  2,  1,  4,  3,  2,\n",
       "         2,  5,  1,  2,  2,  6,  6,  1,  2,  1,  4,  3,  6,  3,  2,  2,  3,\n",
       "         6,  6,  5,  3,  4,  5,  5,  1,  3,  3,  2,  3,  6,  4,  0,  3,  3,\n",
       "         6,  5,  1,  2,  1,  5,  1,  1,  4,  5,  3,  1,  4,  2,  4,  4,  1,\n",
       "         1,  0,  3,  7,  3,  2,  8,  1,  8,  3,  4,  4,  4,  1,  2,  1,  6,\n",
       "         6,  4,  1,  6,  3,  3,  3,  3,  2,  4,  4,  0,  5,  9,  5,  3,  2,\n",
       "         1,  2,  2,  5,  4,  1,  2,  6,  3,  2,  1,  4,  3,  2,  4,  6,  1,\n",
       "         2,  1,  5,  4,  3,  3,  5,  2,  1,  3,  7,  2,  3,  3,  6,  3,  5,\n",
       "         4,  2,  3,  0,  3,  4,  5,  3,  1,  3,  2,  3,  1,  0,  4,  1,  4,\n",
       "         4,  1,  0,  3,  5,  2,  4,  2,  1,  1,  4,  4,  4,  2,  1,  2,  5,\n",
       "         2,  3,  7,  4,  5,  3,  4,  2,  4,  3,  3,  1,  3,  3,  3,  1,  8,\n",
       "         4,  2,  2,  6,  3,  4,  4,  1,  3,  4,  3,  1,  2,  2,  2,  7,  2,\n",
       "         0,  5,  4,  2,  2,  3,  4,  3,  0,  3,  3,  3,  0,  2,  1,  1,  4,\n",
       "         2,  2,  1,  3,  4,  6,  3,  5,  1,  2,  2,  2,  3,  3,  1,  2,  4,\n",
       "         3,  6,  3,  5,  4,  3,  2,  4,  4,  5,  4,  2,  3,  2,  5,  3,  6,\n",
       "         6,  2,  4,  4,  4,  3,  2,  3,  3,  6,  4,  0,  1,  2,  4,  4,  4,\n",
       "         1,  1,  4,  2,  3,  2,  4,  5,  4,  2,  4,  3,  1,  2,  6,  4,  4,\n",
       "         2,  6,  3,  1,  3,  4,  3,  0,  4,  4,  4,  0,  3,  3,  3,  1,  3,\n",
       "         4,  5,  0,  2,  2,  2,  8,  3,  0,  3,  6,  3,  3,  7,  2,  4,  2,\n",
       "         6,  1,  3,  3,  3,  4,  6,  5,  1,  5,  5,  3,  2,  2,  3,  2,  3,\n",
       "         5,  2,  2,  2,  1,  5,  5,  1,  4,  1,  3,  3,  2,  3,  3,  4,  5,\n",
       "         1,  2,  3,  3,  2,  3,  3,  3,  4,  2,  4,  1,  6,  3,  5,  2,  4,\n",
       "         6,  4,  2,  2,  0,  3,  2,  4,  5,  4,  2,  5,  2,  2,  4,  4,  1,\n",
       "         4,  4,  3,  1,  4,  5,  4,  2,  6,  4,  6,  1,  2,  2,  2,  4,  2,\n",
       "         4,  0,  6,  2,  4,  3,  0,  1,  3,  2,  5,  4,  2,  5,  2,  1,  4,\n",
       "         3,  3,  5,  3,  4,  1,  3,  3,  5,  0,  7,  3,  5,  6,  4,  2,  3,\n",
       "         2,  3,  3,  3,  1,  4,  1,  3,  2,  2,  3,  5,  0,  4,  6,  0,  1,\n",
       "         2,  0,  5,  3,  2,  5,  3,  4,  5,  4,  4,  6,  2,  5,  4,  5,  1,\n",
       "         2,  2,  3,  1,  5,  1,  2,  7,  2,  0,  0,  6,  4,  2,  1,  4,  4,\n",
       "         3,  2,  1,  1,  1,  2,  2,  2,  4,  3,  1,  4,  2,  8,  6,  1,  7,\n",
       "         3,  2,  1,  6,  2,  5,  2,  3,  3,  4,  5,  4,  1,  5,  2,  3,  3,\n",
       "         5,  4,  3,  3,  4,  4,  3,  0,  2,  2,  2,  4,  4,  3,  3,  2,  2,\n",
       "         3,  5,  3,  1,  2,  3,  3,  6,  2,  4,  2,  3,  2,  3,  2,  4,  3,\n",
       "         0,  2,  3,  1,  4,  1,  3,  4,  2,  2,  3,  3,  2,  7,  0,  5,  4,\n",
       "        10,  2,  2,  2,  2,  3,  6,  7,  0,  2,  5,  2,  0,  5,  2,  5,  4,\n",
       "         2,  5,  2,  3,  2,  1,  3,  2,  3,  5,  4,  1,  3,  7,  1,  4,  2,\n",
       "         1,  4,  3,  4,  3,  6,  3,  1,  2,  4,  2,  4,  2,  1,  8,  1,  3,\n",
       "         2,  2,  4,  4,  2,  4,  5,  4,  4,  2,  4,  3,  2,  7,  2,  5,  2,\n",
       "         3,  3,  2,  2,  2,  1,  2, 10,  5,  2,  2,  2,  3,  3]),\n",
       " 2.995,\n",
       " 3.002975)"
      ]
     },
     "execution_count": 44,
     "metadata": {},
     "output_type": "execute_result"
    }
   ],
   "source": [
    "# 5. create a pythin function to generate a random samples from a given probabaility distrbution (eg binomail, pision)  and calculate their mean and variance.\n",
    "\n",
    "# for binomila\n",
    "def generate_binomial_sample(n, p, sample_size=1000):\n",
    "    \n",
    "    samples=np.random.binomial(n, p, sample_size)\n",
    "    \n",
    "    mean=np.mean(samples)\n",
    "    variance=np.var(samples)\n",
    "    return samples, mean, variance\n",
    "generate_binomial_sample(n=10, p= 0.5)\n",
    "\n",
    "# for poision\n",
    "\n",
    "def generate_poision_sample(lam, sample_size=1000):\n",
    "    samples2=np.random.poisson(lam, sample_size)\n",
    "    \n",
    "    mean2=np.mean(samples2)\n",
    "    variance2=np.var(samples2)\n",
    "    return samples2, mean2, variance2\n",
    "generate_poision_sample(3)"
   ]
  },
  {
   "cell_type": "code",
   "execution_count": 45,
   "id": "983335f3-9807-4db3-8204-5a8b244eec98",
   "metadata": {},
   "outputs": [
    {
     "name": "stdout",
     "output_type": "stream",
     "text": [
      "sample_mean:  -0.011985584297425354\n",
      "smple_variance: 1.097377297732025\n",
      "sample_std_dev: 1.047557777753583\n"
     ]
    }
   ],
   "source": [
    "# 6.write a python script to generate random numbers from a gausian (normal) distribution and compute the mean, variance, \n",
    "# and standard deviation of the samples.\n",
    "\n",
    "n_samples = 1000\n",
    "mean = 0\n",
    "stdd = 1 \n",
    "\n",
    "samples = np.random.normal(mean, stdd, n_samples)\n",
    "\n",
    "sample_mean=np.mean(samples)\n",
    "\n",
    "sample_variance = np.var(samples)\n",
    "\n",
    "sample_stdd = np.std(samples)\n",
    "\n",
    "print('sample_mean: ', sample_mean)\n",
    "print('smple_variance:', sample_variance)\n",
    "print('sample_std_dev:', sample_stdd)"
   ]
  },
  {
   "cell_type": "code",
   "execution_count": 46,
   "id": "afdfbd4d-9406-426f-a8a7-6ff1156dad2d",
   "metadata": {},
   "outputs": [
    {
     "data": {
      "text/html": [
       "<div>\n",
       "<style scoped>\n",
       "    .dataframe tbody tr th:only-of-type {\n",
       "        vertical-align: middle;\n",
       "    }\n",
       "\n",
       "    .dataframe tbody tr th {\n",
       "        vertical-align: top;\n",
       "    }\n",
       "\n",
       "    .dataframe thead th {\n",
       "        text-align: right;\n",
       "    }\n",
       "</style>\n",
       "<table border=\"1\" class=\"dataframe\">\n",
       "  <thead>\n",
       "    <tr style=\"text-align: right;\">\n",
       "      <th></th>\n",
       "      <th>total_bill</th>\n",
       "      <th>tip</th>\n",
       "      <th>sex</th>\n",
       "      <th>smoker</th>\n",
       "      <th>day</th>\n",
       "      <th>time</th>\n",
       "      <th>size</th>\n",
       "    </tr>\n",
       "  </thead>\n",
       "  <tbody>\n",
       "    <tr>\n",
       "      <th>0</th>\n",
       "      <td>16.99</td>\n",
       "      <td>1.01</td>\n",
       "      <td>Female</td>\n",
       "      <td>No</td>\n",
       "      <td>Sun</td>\n",
       "      <td>Dinner</td>\n",
       "      <td>2</td>\n",
       "    </tr>\n",
       "    <tr>\n",
       "      <th>1</th>\n",
       "      <td>10.34</td>\n",
       "      <td>1.66</td>\n",
       "      <td>Male</td>\n",
       "      <td>No</td>\n",
       "      <td>Sun</td>\n",
       "      <td>Dinner</td>\n",
       "      <td>3</td>\n",
       "    </tr>\n",
       "    <tr>\n",
       "      <th>2</th>\n",
       "      <td>21.01</td>\n",
       "      <td>3.50</td>\n",
       "      <td>Male</td>\n",
       "      <td>No</td>\n",
       "      <td>Sun</td>\n",
       "      <td>Dinner</td>\n",
       "      <td>3</td>\n",
       "    </tr>\n",
       "    <tr>\n",
       "      <th>3</th>\n",
       "      <td>23.68</td>\n",
       "      <td>3.31</td>\n",
       "      <td>Male</td>\n",
       "      <td>No</td>\n",
       "      <td>Sun</td>\n",
       "      <td>Dinner</td>\n",
       "      <td>2</td>\n",
       "    </tr>\n",
       "    <tr>\n",
       "      <th>4</th>\n",
       "      <td>24.59</td>\n",
       "      <td>3.61</td>\n",
       "      <td>Female</td>\n",
       "      <td>No</td>\n",
       "      <td>Sun</td>\n",
       "      <td>Dinner</td>\n",
       "      <td>4</td>\n",
       "    </tr>\n",
       "    <tr>\n",
       "      <th>...</th>\n",
       "      <td>...</td>\n",
       "      <td>...</td>\n",
       "      <td>...</td>\n",
       "      <td>...</td>\n",
       "      <td>...</td>\n",
       "      <td>...</td>\n",
       "      <td>...</td>\n",
       "    </tr>\n",
       "    <tr>\n",
       "      <th>239</th>\n",
       "      <td>29.03</td>\n",
       "      <td>5.92</td>\n",
       "      <td>Male</td>\n",
       "      <td>No</td>\n",
       "      <td>Sat</td>\n",
       "      <td>Dinner</td>\n",
       "      <td>3</td>\n",
       "    </tr>\n",
       "    <tr>\n",
       "      <th>240</th>\n",
       "      <td>27.18</td>\n",
       "      <td>2.00</td>\n",
       "      <td>Female</td>\n",
       "      <td>Yes</td>\n",
       "      <td>Sat</td>\n",
       "      <td>Dinner</td>\n",
       "      <td>2</td>\n",
       "    </tr>\n",
       "    <tr>\n",
       "      <th>241</th>\n",
       "      <td>22.67</td>\n",
       "      <td>2.00</td>\n",
       "      <td>Male</td>\n",
       "      <td>Yes</td>\n",
       "      <td>Sat</td>\n",
       "      <td>Dinner</td>\n",
       "      <td>2</td>\n",
       "    </tr>\n",
       "    <tr>\n",
       "      <th>242</th>\n",
       "      <td>17.82</td>\n",
       "      <td>1.75</td>\n",
       "      <td>Male</td>\n",
       "      <td>No</td>\n",
       "      <td>Sat</td>\n",
       "      <td>Dinner</td>\n",
       "      <td>2</td>\n",
       "    </tr>\n",
       "    <tr>\n",
       "      <th>243</th>\n",
       "      <td>18.78</td>\n",
       "      <td>3.00</td>\n",
       "      <td>Female</td>\n",
       "      <td>No</td>\n",
       "      <td>Thur</td>\n",
       "      <td>Dinner</td>\n",
       "      <td>2</td>\n",
       "    </tr>\n",
       "  </tbody>\n",
       "</table>\n",
       "<p>244 rows × 7 columns</p>\n",
       "</div>"
      ],
      "text/plain": [
       "     total_bill   tip     sex smoker   day    time  size\n",
       "0         16.99  1.01  Female     No   Sun  Dinner     2\n",
       "1         10.34  1.66    Male     No   Sun  Dinner     3\n",
       "2         21.01  3.50    Male     No   Sun  Dinner     3\n",
       "3         23.68  3.31    Male     No   Sun  Dinner     2\n",
       "4         24.59  3.61  Female     No   Sun  Dinner     4\n",
       "..          ...   ...     ...    ...   ...     ...   ...\n",
       "239       29.03  5.92    Male     No   Sat  Dinner     3\n",
       "240       27.18  2.00  Female    Yes   Sat  Dinner     2\n",
       "241       22.67  2.00    Male    Yes   Sat  Dinner     2\n",
       "242       17.82  1.75    Male     No   Sat  Dinner     2\n",
       "243       18.78  3.00  Female     No  Thur  Dinner     2\n",
       "\n",
       "[244 rows x 7 columns]"
      ]
     },
     "execution_count": 46,
     "metadata": {},
     "output_type": "execute_result"
    }
   ],
   "source": [
    "# 7. use seaborn library to load 'tips'dataset. find the folloeing from the for the columns 'total_bill' and 'tip'\n",
    "\n",
    "import seaborn as sns\n",
    "\n",
    "df=sns.load_dataset('tips')\n",
    "df"
   ]
  },
  {
   "cell_type": "code",
   "execution_count": 47,
   "id": "f495ef07-f3da-481e-b949-b7f79e07a029",
   "metadata": {},
   "outputs": [
    {
     "data": {
      "text/plain": [
       "1.0124136992823851"
      ]
     },
     "execution_count": 47,
     "metadata": {},
     "output_type": "execute_result"
    }
   ],
   "source": [
    "# 7. (1). write a python function that calculate their skewness.\n",
    "# for total_bill column\n",
    "\n",
    "def skewness1(data):\n",
    "    if len(data) < 3:\n",
    "        raise ValueError('the dataset must have at least 3 data points')\n",
    "    \n",
    "    n= len(data)\n",
    "    mean= np.mean(data)\n",
    "    std= np.std(data)\n",
    "    \n",
    "    if std == 0 :\n",
    "        return 0\n",
    "    \n",
    "    skewness_=(n / ((n - 1)*(n - 2))) * np.sum(((data - mean ) / std) **2)\n",
    "    return skewness_\n",
    "skewness1(df['total_bill'])\n",
    "\n",
    "# for tip column\n",
    "def skewness2(data):\n",
    "    if len(data) < 3:\n",
    "        raise ValueError('the dataset must have at least 3 data points')\n",
    "    \n",
    "    n= len(data)\n",
    "    mean= np.mean(data)\n",
    "    std= np.std(data)\n",
    "    \n",
    "    if std == 0 :\n",
    "        return 0\n",
    "    \n",
    "    skewness_=(n / ((n - 1)*(n - 2))) * np.sum(((data - mean ) / std) **2)\n",
    "    return skewness_\n",
    "skewness2(df['tip'])"
   ]
  },
  {
   "cell_type": "code",
   "execution_count": 47,
   "id": "6e53c902-98cb-4f2a-afe6-ae3c7a5cc134",
   "metadata": {},
   "outputs": [
    {
     "data": {
      "text/plain": [
       "0      16.99\n",
       "1      10.34\n",
       "2      21.01\n",
       "3      23.68\n",
       "4      24.59\n",
       "       ...  \n",
       "239    29.03\n",
       "240    27.18\n",
       "241    22.67\n",
       "242    17.82\n",
       "243    18.78\n",
       "Name: total_bill, Length: 244, dtype: float64"
      ]
     },
     "execution_count": 47,
     "metadata": {},
     "output_type": "execute_result"
    }
   ],
   "source": [
    "# 7. (2)_. create a program that determines whether the columns exhibit positive skewness, negative skewness, or is approximatly symmetric.\n",
    "df.total_bill"
   ]
  },
  {
   "cell_type": "code",
   "execution_count": 52,
   "id": "4ee219fa-094c-4d29-807f-1cc03a5115c4",
   "metadata": {},
   "outputs": [
    {
     "data": {
      "text/plain": [
       "8.289388917629669"
      ]
     },
     "execution_count": 52,
     "metadata": {},
     "output_type": "execute_result"
    }
   ],
   "source": [
    "# 7. (3).write a function that calculates the covarience between two variables.\n",
    "\n",
    "def covarience(df, total_bill, tip):\n",
    "    mean1= df['total_bill'].mean()\n",
    "    mean2= df['tip'].mean()\n",
    "    covarience_value=((df['total_bill'] - mean1) * (df['tip'] - mean2)).mean()\n",
    "    return covarience_value\n",
    "covarience(df, df['total_bill'], df['tip'])"
   ]
  },
  {
   "cell_type": "code",
   "execution_count": 56,
   "id": "90e1d889-c195-42b2-97ca-55f641311a0c",
   "metadata": {},
   "outputs": [
    {
     "data": {
      "text/plain": [
       "0.6729647071244323"
      ]
     },
     "execution_count": 56,
     "metadata": {},
     "output_type": "execute_result"
    }
   ],
   "source": [
    "# 7. (4).impliment a python program that calculates the peArson correlation coefficient between two columns.\n",
    "def pearson_corr(df, total_bill, tip):\n",
    "    mean1= df['total_bill'].mean()\n",
    "    mean2= df['tip'].mean()\n",
    "    covarience_value=((df['total_bill'] - mean1) * (df['tip'] - mean2)).mean()\n",
    "    \n",
    "    std1=df['total_bill'].std()\n",
    "    std2=df['tip'].std()\n",
    "    \n",
    "    if std1 == 0 or std2 ==  0:\n",
    "        raise ValueError('can to compute correlation')\n",
    "    correlation= covarience_value / (std1 * std2)\n",
    "    return correlation\n",
    "pearson_corr(df, df['total_bill'], df['tip'])"
   ]
  },
  {
   "cell_type": "code",
   "execution_count": 17,
   "id": "5e80ba62-542b-439c-bce8-6cc749d2169a",
   "metadata": {},
   "outputs": [
    {
     "data": {
      "image/png": "[encoded data removed]",
      "text/plain": [
       "<Figure size 700x400 with 1 Axes>"
      ]
     },
     "metadata": {},
     "output_type": "display_data"
    }
   ],
   "source": [
    "# 1. (5). write a script to visualize the correlation between two specific columns in a pandas dataframe using scatterplot.\n",
    "\n",
    "import pandas as pd\n",
    "import numpy as np\n",
    "import matplotlib.pyplot as plt\n",
    "import seaborn as sns\n",
    "\n",
    "plt.figure(figsize=(7,4))\n",
    "sns.scatterplot(x=df['total_bill'], y=df['tip'], data= df)\n",
    "sns.regplot(x=df.total_bill, y=df.tip, data= df, scatter= False, line_kws={'label':'linear fit'})\n",
    "plt.title('scatter plot')\n",
    "plt.xlabel('total_bill')\n",
    "plt.ylabel('tip')\n",
    "plt.show()\n",
    "          "
   ]
  },
  {
   "cell_type": "code",
   "execution_count": 40,
   "id": "382e3e11-9fb2-4088-9731-2d3ecf1bd778",
   "metadata": {},
   "outputs": [
    {
     "data": {
      "text/plain": [
       "0.24197072451914337"
      ]
     },
     "execution_count": 40,
     "metadata": {},
     "output_type": "execute_result"
    }
   ],
   "source": [
    "# 8. write a python fumction to calculate a probability dencity function (PDF) of a continuous random vaibale for a given normal distribution.\n",
    "def normal_pdf(x, mean=0, std_dev=1):\n",
    "    \n",
    "    coeff= 1/ (std_dev * math. sqrt( 2 * math.pi))\n",
    "    exponent= -((x - mean) ** 2) / (2* std_dev ** 2)\n",
    "    return coeff * math.exp(exponent)\n",
    "\n",
    "normal_pdf(x=1)"
   ]
  },
  {
   "cell_type": "code",
   "execution_count": 28,
   "id": "8b72c0e7-897f-4c27-b558-cdc8c5c07245",
   "metadata": {},
   "outputs": [
    {
     "data": {
      "text/plain": [
       "0.6321205588285577"
      ]
     },
     "execution_count": 28,
     "metadata": {},
     "output_type": "execute_result"
    }
   ],
   "source": [
    "# 9.create a program to calculate a cumulative distribution function (CDF) of exponential distribution.\n",
    "def exponential_CDF(x, rate):\n",
    "    if x <0:\n",
    "        return 0.0  # the cdf is zero any x<0 in an exp_distibution\n",
    "    return 1 - math.exp(- rate * x )\n",
    "\n",
    "exponential_CDF(x = 2, rate = 0.5)"
   ]
  },
  {
   "cell_type": "code",
   "execution_count": 20,
   "id": "75641b03-99dd-4c71-880a-27623b0424b4",
   "metadata": {},
   "outputs": [
    {
     "data": {
      "text/plain": [
       "0.21376301724973645"
      ]
     },
     "execution_count": 20,
     "metadata": {},
     "output_type": "execute_result"
    }
   ],
   "source": [
    "# 10. write a python function to calculate probability mass function (PMF) of poision distribution.\n",
    "def poisson_dist(k, lam):\n",
    "    return (lam ** k) * math.exp(-lam) / math.factorial(k)\n",
    "poisson_dist(k=3, lam=2.5)"
   ]
  },
  {
   "cell_type": "code",
   "execution_count": 21,
   "id": "f4e348df-27e1-411e-b49f-41e3d3c4ae63",
   "metadata": {},
   "outputs": [
    {
     "name": "stdout",
     "output_type": "stream",
     "text": [
      "z-score: -1.883108942886774\n",
      "p_value: 0.05968560553242619\n",
      "fail to reject the null hypothesis:\n"
     ]
    }
   ],
   "source": [
    "# 11. a company wants to test if a new website layout lead to a higher conversion rate (percentage of visitors who make a purchase ). they collect data from the old and new layouts to compare.\n",
    "\n",
    "# to generate the data using following commands:\n",
    "from scipy import stats\n",
    "import numpy as np\n",
    "\n",
    "# 50 purchases out of 1000 visitors\n",
    "old_layout = np.array([1]*50+[0]*950)\n",
    "\n",
    "# 70 purchases out of 1000 visitors\n",
    "new_layout=np.array([1]*70+[0]*930)\n",
    "\n",
    "# apply z-test to find which layout is successful.\n",
    "\n",
    "p1= np.mean(old_layout)\n",
    "p2= np.mean(new_layout)\n",
    "\n",
    "n1=len(old_layout)\n",
    "n2=len(new_layout)\n",
    "\n",
    "# pooled conversion rate \n",
    "p=(p1 * n1 + p2 * n2) / (n1 + n2)\n",
    "\n",
    "# standatd error\n",
    "SE = np.sqrt(p * (1-p) * (1/n1 + 1/n2))\n",
    "\n",
    "# zscore\n",
    "z= (p1 - p2)/SE\n",
    "print('z-score:', z)\n",
    "\n",
    "# p-value\n",
    "p_value= 2*(1 - stats.norm.cdf(abs(z)))\n",
    "\n",
    "alpha= 0.05\n",
    "print('p_value:', p_value)\n",
    "\n",
    "if p_value<alpha:\n",
    "    print('reject the null hypthesis:')\n",
    "    if p2>p1:\n",
    "        print('the new ayput is mre succesful:')\n",
    "    else:\n",
    "            print('the old layput is more successful:')\n",
    "else:\n",
    "    print('fail to reject the null hypothesis:')\n"
   ]
  },
  {
   "cell_type": "code",
   "execution_count": 22,
   "id": "3ca96014-55f9-478a-972f-cb75aea039a5",
   "metadata": {},
   "outputs": [
    {
     "name": "stdout",
     "output_type": "stream",
     "text": [
      "z-stat: 4.841648318657442\n",
      "p_vlue: 0.9999993561674513\n"
     ]
    }
   ],
   "source": [
    "# 12. tutoring service claims that its program improves students exams score. a sample of student who prticepated in the program was takken , and their score before and after the program were recorded.\n",
    "# use the below code to generate samples of respective arrays of marks:\n",
    "\n",
    "before_program=np.array([75,80,85,70,90,78,92,88,82,87])\n",
    "after_program=np.array([80,85,90,80,92,80,95,90,85,88])\n",
    "\n",
    "# use z-test to find if the claims made by tutor are true or false.\n",
    "\n",
    "difference=after_program - before_program\n",
    "\n",
    "mean_diff=np.mean(difference)\n",
    "std_diff= np.std(difference)\n",
    "\n",
    "n=len(difference)\n",
    "\n",
    "z_test=mean_diff/(std_diff / np.sqrt(n))\n",
    "p_value=stats.norm.cdf(abs(z_test))\n",
    "\n",
    "print('z-stat:', z_test)\n",
    "print('p_vlue:', p_value)"
   ]
  },
  {
   "cell_type": "code",
   "execution_count": 23,
   "id": "8be037c5-864e-4415-b73e-3ddefdab7ec2",
   "metadata": {},
   "outputs": [
    {
     "name": "stdout",
     "output_type": "stream",
     "text": [
      "z-stat: -10.593499054713803\n",
      "p_vlue: 0.9999993561674513\n",
      "fail to reject the null hypothesis:\n"
     ]
    }
   ],
   "source": [
    "# 13. a pharmaceutical company wants to determine if a new drug is effective inn reducing blood pressure, they conduct a study and recod blood pressure mesument before and after adminidteing the drug.\n",
    "before_drug=np.array([145,150,140,135,155,160,152,148,130,138])\n",
    "after_drug=np.array([130,140,132,128,145,148,138,136,125,130])\n",
    "\n",
    "# implement z_test to find if the drug really works or not\n",
    "difference=after_drug - before_drug\n",
    "\n",
    "mean_diff=np.mean(difference)\n",
    "std_diff=np.std(difference)\n",
    "\n",
    "n=len(difference)\n",
    "\n",
    "z_score=mean_diff/ (std_diff/ np.sqrt(n))\n",
    "p_value=stats.norm.cdf(abs(z_test))\n",
    "\n",
    "print('z-stat:', z_score)\n",
    "print('p_vlue:', p_value)\n",
    "alpha=0.05\n",
    "\n",
    "if p_value<alpha:\n",
    "    print('reject the null hypothesis:')\n",
    "else:\n",
    "    print('fail to reject the null hypothesis:')\n",
    "    "
   ]
  },
  {
   "cell_type": "code",
   "execution_count": 24,
   "id": "07cc1464-2d36-4dad-90dd-efb444d6d47e",
   "metadata": {},
   "outputs": [
    {
     "name": "stdout",
     "output_type": "stream",
     "text": [
      "z-stat: -3.356712648559143\n",
      "p_vlue: 0.00039437520387081387\n",
      "the p_value is {p_value:,4f}\n",
      "we reject the null hypthesis\n"
     ]
    }
   ],
   "source": [
    "# 14. a costumer department claims that their average response time is less than 5 minutes. a sample of recent costumer intrections was taken and the respnse times were recorded.\n",
    "responce_times=np.array([4.3, 3.8, 5.1,4.9, 4.7, 4.2, 5.2, 4.5, 4.6, 4.4])\n",
    "\n",
    "# impliments z-test to find the claims made by costumer service department are true or false.\n",
    "\n",
    "mu= 5\n",
    "\n",
    "sample_mean=np.mean(responce_times)\n",
    "sample_std=np.std(responce_times)\n",
    "n=len(responce_times)\n",
    "\n",
    "# z-test\n",
    "z=(sample_mean - mu) / (sample_std / np.sqrt(n))\n",
    "\n",
    "# p-value\n",
    "p_value=stats.norm.cdf(z)\n",
    "\n",
    "print('z-stat:', z)\n",
    "print('p_vlue:', p_value)\n",
    "\n",
    "alpha=0.05\n",
    "\n",
    "if p_value < alpha:\n",
    "    print('the p_value is {p_value:,4f}')\n",
    "    print('we reject the null hypthesis')\n",
    "else:\n",
    "    print('the p_value is {p_value:,4}')\n",
    "    print('we fail to reject the null hypothesis')"
   ]
  },
  {
   "cell_type": "code",
   "execution_count": 25,
   "id": "722d0981-fe17-42f3-959d-363d77443214",
   "metadata": {},
   "outputs": [
    {
     "data": {
      "text/plain": [
       "(-7.802042208011173, 17.855918486756348, 3.68907511742347e-07)"
      ]
     },
     "execution_count": 25,
     "metadata": {},
     "output_type": "execute_result"
    }
   ],
   "source": [
    "# 15. a company is testing two different website layouts to see which one leads to higher click through rates. write a python function to perform an A/B  test analysis, includiing calculating the t-statistic, degree of freedom, p_value.\n",
    "\n",
    "import numpy as np\n",
    "from scipy import stats\n",
    "\n",
    "layout_a_clicks=[28, 32, 33, 29, 31, 34, 30, 35, 36, 37]\n",
    "layout_b_clicks=[40, 41, 38, 42, 39, 44, 43, 42, 45, 47]\n",
    "\n",
    "def a_b_test(layout_a_cliks, layout_b_cliccks):\n",
    "    \n",
    "    layout_a=np.array(layout_a_clicks)\n",
    "    layout_b=np.array(layout_b_clicks)\n",
    "    \n",
    "    mean_a=np.mean(layout_a)\n",
    "    mean_b=np.mean(layout_b)\n",
    "    \n",
    "    std_a=np.std(layout_a)\n",
    "    std_b=np.std(layout_b)\n",
    "    \n",
    "    n_a=len(layout_a)\n",
    "    n_b=len(layout_b)\n",
    "    \n",
    "# t-test\n",
    "\n",
    "    t_stat=(mean_a - mean_b) / np.sqrt((std_a** 2 / n_a) + (std_b ** 2 / n_b))\n",
    "    \n",
    "# degree of freedom\n",
    "\n",
    "    df_numirator=(std_a** 2 / n_a + std_b ** 2 / n_b) ** 2\n",
    "    df_denomenator=((std_a** 2 / n_a) ** 2/(n_a - 1)) + ((std_b** 2 / n_b) ** 2/(n_b - 1))\n",
    "    df=df_numirator / df_denomenator\n",
    "# p_value\n",
    "    \n",
    "    p_value = stats.t.sf(np.abs(t_stat), df) * 2\n",
    "    \n",
    "    return t_stat, df, p_value\n",
    "\n",
    "a_b_test(layout_a_clicks, layout_b_clicks)\n"
   ]
  },
  {
   "cell_type": "code",
   "execution_count": 26,
   "id": "dd6aa8b7-9d87-4448-8a9c-182b06238c53",
   "metadata": {},
   "outputs": [
    {
     "name": "stdout",
     "output_type": "stream",
     "text": [
      "reject the null hypothesis\n"
     ]
    }
   ],
   "source": [
    "# 16. a farmaceutical company wants to determine if a new drug is more effective than an existing drug in reducing cholestrol levels. create a program to analyse the clinical trial dataand calculate the t_statistics and p_value for treatment effect.\n",
    "existing_drug_levels=[180, 182, 175, 185, 178, 176, 172, 184, 179, 183]\n",
    "new_drug_levels= [170,17,165, 178, 175, 173, 170, 178, 172, 176]\n",
    "\n",
    "def drug_levels(existing_drug_levels, new_drug_levels):\n",
    "    \n",
    "    existing_dug=np.array(existing_drug_levels)\n",
    "    new_drug=np.array(new_drug_levels)\n",
    "    \n",
    "    existing_mean=np.mean(existing_drug_levels)\n",
    "    new_drug_mean=np.mean(new_drug_levels)\n",
    "    \n",
    "    std_existing=np.std(existing_drug_levels)\n",
    "    new_drug_std=np.std(new_drug_levels)\n",
    "    \n",
    "    n_existing=len(existing_drug_levels)\n",
    "    n_new=len(new_drug_levels)\n",
    "    \n",
    "# t_stats\n",
    "    t_stat= (existing_mean - new_drug_mean) / np.sqrt((std_existing**2 / n_existing)+(new_drug_std **2 / n_new))\n",
    "\n",
    "\n",
    "# degree of freedom\n",
    "    df_num= (std_existing **2 / n_existing + new_drug_std **2 / n_new) **2\n",
    "    df_den=((std_existing **2 / n_existing) **2 / (n_existing - 1)) + ((new_drug_std **2 / n_new) **2 / (n_new - 1))\n",
    "    df=df_num/df_den\n",
    "    \n",
    "    p_value=stats.t.sf(abs(t_stat), df)*2\n",
    "    \n",
    "    return t_stat, df, p_value\n",
    "drug_levels(existing_drug_levels, new_drug_levels)\n",
    "\n",
    "alpha= 0.05\n",
    "\n",
    "if p_value < alpha:\n",
    "    print('reject the null hypothesis')\n",
    "else:\n",
    "    print('reject to fail the null hyothesis')"
   ]
  },
  {
   "cell_type": "code",
   "execution_count": 27,
   "id": "f13deac7-13c5-4292-bb7d-8f9ec0c0d6f3",
   "metadata": {},
   "outputs": [
    {
     "name": "stdout",
     "output_type": "stream",
     "text": [
      "reject the null hypothesis\n"
     ]
    }
   ],
   "source": [
    "# 17.a school district introduces and educational intervnention program to improve math score. write a python to fuction to analyse pre and post intervention test score, t_stats and p_value to determine if the intervention had a significnt impact.\n",
    "pre_intervention_score=[80,85,90,75,88,82,92,88,85,87]\n",
    "pst_intervention_score=[90,92,88,92,95,91,96,93,89,93]\n",
    "\n",
    "def paird_t_test(pre_intervention_score, post_intervention_score):\n",
    "    pre=np.array(pre_intervention_score)\n",
    "    post=np.array(post_intervention_score)\n",
    "    \n",
    "    difference= post - pre\n",
    "    \n",
    "    mean_diff=np.mean(difference)\n",
    "    std_diff= np.std(difference)\n",
    "    \n",
    "    n=len(difference)\n",
    "    \n",
    "# t_stats\n",
    "    t_stats=mean_diff/(std_diff / np.sqrt(n))\n",
    "    \n",
    "# degree of freedom\n",
    "    df=n - 1\n",
    "    \n",
    "    p_value= stats.t.sf(np.abs(t_stats),df)*2\n",
    "    \n",
    "    return t_stats, p_value, df\n",
    "paird_t_test(pre_intervention_score, pst_intervention_score)\n",
    "\n",
    "alpha= 0.05\n",
    "\n",
    "if p_value < alpha:\n",
    "    print('reject the null hypothesis')\n",
    "else:\n",
    "    print('reject to fail the null hyothesis')"
   ]
  },
  {
   "cell_type": "code",
   "execution_count": 28,
   "id": "89613073-e53b-4934-a7d7-b7b2571ad129",
   "metadata": {},
   "outputs": [
    {
     "name": "stdout",
     "output_type": "stream",
     "text": [
      "reject the null hypothesis\n"
     ]
    }
   ],
   "source": [
    "# 18. an hr department wants to investigate if there is gender based salary gap within the comapany. develop a program to analys salary data, calculate thet_stats data, and determine if there is a statistially significant difference between the average salarie of male and female employees.\n",
    "male_salaries=np.random.normal(loc=50000, scale=10000, size=20)\n",
    "female_salaries=np.random.normal(loc=55000, scale=9000, size=20)\n",
    "\n",
    "def gender_salary_gap_test(male_salaries, female_salaries):\n",
    "    \n",
    "    male=np.array(male_salaries)\n",
    "    female=np.array(female_salaries)\n",
    "    \n",
    "    mean_male=np.mean(male)\n",
    "    mean_female=np.mean(female)\n",
    "    \n",
    "    std_male=np.std(male)\n",
    "    std_female=np.std(female)\n",
    "    \n",
    "    n_male=len(male)\n",
    "    n_female=len(female)\n",
    "    \n",
    "# t_test\n",
    "    t_stat= (mean_male - mean_female) / np.sqrt((std_male **2 / n_male)+(std_female **2 / n_female))\n",
    "    \n",
    "# degree_of_freedom\n",
    "    df_num = (std_male **2 / n_male + std_female **2 / n_female)**2\n",
    "    df_den= ((std_male **2 / n_male) **2/ (n_male - 1 )) + ((std_female **2 / n_female)**2 / (n_female - 1))\n",
    "    df=df_num / df_den\n",
    "    \n",
    "# p_value\n",
    "    p_value= stats.t.sf(np.abs(t_stat), df)*2\n",
    "    \n",
    "    return t_stat, df, p_value\n",
    "\n",
    "gender_salary_gap_test(male_salaries,female_salaries)\n",
    "\n",
    "alpha= 0.05\n",
    "\n",
    "if p_value < alpha:\n",
    "    print('reject the null hypothesis')\n",
    "else:\n",
    "    print('reject to fail the null hyothesis')"
   ]
  },
  {
   "cell_type": "code",
   "execution_count": 29,
   "id": "5fc72f10-e61b-42fc-a058-cc1447620198",
   "metadata": {},
   "outputs": [
    {
     "name": "stdout",
     "output_type": "stream",
     "text": [
      "reject the null hypothesis\n"
     ]
    }
   ],
   "source": [
    "# 19.a manufecturer producer two different versions of a product and wants to compare their quality scores. create a python finunction to analyse quality assesment data, calculate the t_statistics , decide whether there's asignificent difference in quality between the two versions.\n",
    "version1_score= [85,88,82,89,87,84,90,88,85,86,91,83,87,84,89,86,84,88,85,86,89,90,87,88,85]\n",
    "vesion2_score=[80,78,83,81,79,82,76,80,78,81,77,82,80,79,82,79,80,81,79,82,79,78,80,81,82]\n",
    "\n",
    "def quality_score_comparison(version1_score, version2_score):\n",
    "    \n",
    "    version1=np.array(version1_score)\n",
    "    version2=np.array(version2_score)\n",
    "    \n",
    "    mean_version1=np.mean(version1)\n",
    "    mean_version2=np.mean(version2)\n",
    "    \n",
    "    std_version1=np.std(version1)\n",
    "    std_version2=np.std(version2)\n",
    "    \n",
    "    n_version1=len(version1)\n",
    "    n_version2=len(version2)\n",
    "    \n",
    "# t_statistics\n",
    "    t_stat=(mean_version1 - mean_version2) / np.sqrt((std_version1 **2 / n_version1) + (std_version2 **2 / n_version2))\n",
    "    \n",
    "# degree of freedom\n",
    "    df_num=(std_version1 **2 / n_version1 + std_version2 **2 / n_version2) **2\n",
    "    df_den=((std_version1 **2 / n_version1) **2 / (n_version1 - 1)) + ((std_version2 **2 / n_version2) **2 / (n_version2 - 1))\n",
    "    df=df_num / df_den\n",
    "    \n",
    "# p_value\n",
    "    p_value=stats.t.sf(abs(t_stat),df) *2\n",
    "    \n",
    "    return t_stat, df, p_value\n",
    "quality_score_comparison(version1_score, vesion2_score)\n",
    "                 \n",
    "alpha= 0.05\n",
    "\n",
    "if p_value < alpha:\n",
    "    print('reject the null hypothesis')\n",
    "else:\n",
    "    print('reject to fail the null hyothesis')"
   ]
  },
  {
   "cell_type": "code",
   "execution_count": 30,
   "id": "adf9dd44-e7e1-42fe-a176-9498d5b31f6b",
   "metadata": {},
   "outputs": [
    {
     "name": "stdout",
     "output_type": "stream",
     "text": [
      "reject the null hypothesis\n"
     ]
    }
   ],
   "source": [
    "# 20.a restaurent chain ccollects costumer satisfaction score for tw different branches. write  program to analyze the scores, calculate the t_statistics, determine in there's satisfically significant difference in costumer satisfaction between the branches.\n",
    "branch_a_score=[4,5,3,4,5,4,5,3,4,4,5,4,4,3,4,5,5,4,3,4,5,4,3,5,4,4,5,3,4,5,4]\n",
    "branch_b_score=[3,4,2,3,4,3,4,2,3,3,4,3,3,2,3,4,4,3,2,3,4,3,2,4,3,3,4,2,3,4,3]\n",
    "\n",
    "def satisfaction_score_comparison(branch_a_score, branch_b_score):\n",
    "    \n",
    "    branch_a=np.array(branch_a_score)\n",
    "    branch_b=np.array(branch_b_score)\n",
    "    \n",
    "    mean_branch_a=np.mean(branch_a)\n",
    "    mean_branch_b=np.mean(branch_b)\n",
    "    \n",
    "    std_branch_a=np.std(branch_a)\n",
    "    std_branch_b=np.std(branch_b)\n",
    "    \n",
    "    n_branch_a=len(branch_a)\n",
    "    n_branch_b=len(branch_b)\n",
    "    \n",
    "# t_statistics\n",
    "    t_stat=(mean_branch_a - mean_branch_b) / (np.sqrt(std_branch_a **2 / n_branch_a) + (std_branch_b **2 / n_branch_b))\n",
    "    \n",
    "# degree_of_freedom\n",
    "    df_num=(std_branch_a **2 / n_branch_a + std_branch_b **2 / n_branch_b) **2\n",
    "    df_den=((std_branch_a **2 / n_branch_a)**2 / (n_branch_a - 1)) + ((std_branch_b **2 / n_branch_b)**2 / (n_branch_b - 1))\n",
    "    df=df_num / df_den\n",
    "    \n",
    "# p_value\n",
    "    p_value=stats.t.sf(abs(t_stat),df)*2\n",
    "    \n",
    "    return t_stat, df, p_value\n",
    "satisfaction_score_comparison(branch_a_score, branch_b_score)\n",
    "\n",
    "alpha= 0.05\n",
    "\n",
    "if p_value < alpha:\n",
    "    print('reject the null hypothesis')\n",
    "else:\n",
    "    print('reject to fail the null hyothesis')"
   ]
  },
  {
   "cell_type": "code",
   "execution_count": 31,
   "id": "d0dacf3d-166d-404d-bf75-b25538c7a29d",
   "metadata": {},
   "outputs": [
    {
     "name": "stdout",
     "output_type": "stream",
     "text": [
      "1.937799043062201\n",
      "0.3795004404537818\n",
      "2\n"
     ]
    }
   ],
   "source": [
    "# 21.a political analtytics wants to determine if there is a significant association between age groups and voters prefrences (candidate a and candidaate b). they collact data from a sample of 500 voters and classify them into different age groups and candidate prefrences. perform a chi_square test to determine if there is a significant association between age group and voter prefrence.\n",
    "\n",
    "import pandas as pd\n",
    "from scipy.stats import chi2_contingency\n",
    "\n",
    "np.random.seed(1)\n",
    "\n",
    "age_groups = np.random.choice(['18-30', '31-50]','51+'], size=30)\n",
    "voter_prefrences = np.random.choice(['candidate A', 'candidate B'], size=30)\n",
    "\n",
    "data={\n",
    "    'age_group': age_groups, \n",
    "    'voter_prefrence': voter_prefrences\n",
    "    }\n",
    "\n",
    "data=pd.DataFrame(data)\n",
    "contingency_table=pd.crosstab(data['age_group'], data['voter_prefrence'])\n",
    "\n",
    "chi2_stat, p_value, dof, expected=chi2_contingency(contingency_table)\n",
    "print(chi2_stat)\n",
    "print(p_value)\n",
    "print(dof)"
   ]
  },
  {
   "cell_type": "code",
   "execution_count": 32,
   "id": "06e35847-92e5-453b-b14d-6f7a6a9dd6fc",
   "metadata": {},
   "outputs": [
    {
     "name": "stdout",
     "output_type": "stream",
     "text": [
      "chi2-value: 1.937799043062201\n",
      "p_value: 0.00010349448486004387\n",
      "degree of freedom: 6\n"
     ]
    }
   ],
   "source": [
    "# 22. a ccompny conducted a cotumer satisfaction survey to determine if there significant relationship between product satisfaction value(satisfaied, natural, disatisfaied) and the region where costumer are located (east, west, north, south). the survey data is summerised in a contingency table. conduct a chi-square test to ditermine if there s a significant relationship between product satisfaction levels and costumer regions.\n",
    "# sample data\n",
    "data=np.array([[50,30,40,20], [30,40,30,50], [20,30,40,30]])\n",
    "\n",
    "chi2, p_value, dof, expected= chi2_contingency(data)\n",
    "\n",
    "print('chi2-value:',chi2_stat)\n",
    "print('p_value:',p_value)\n",
    "print('degree of freedom:',dof)"
   ]
  },
  {
   "cell_type": "code",
   "execution_count": 33,
   "id": "87b043a1-4a23-43ab-b83a-81f7aacf8590",
   "metadata": {},
   "outputs": [
    {
     "name": "stdout",
     "output_type": "stream",
     "text": [
      "chi2-value: 1.937799043062201\n",
      "p_value: 0.00018609719479882557\n",
      "degree of freedom: 4\n"
     ]
    }
   ],
   "source": [
    "# 23.a company implemented a employee training program to impliment job prefrence (effective, natural, ineffective) after the training they collect te dat from a sampel of employees and classified them based on their job performence before and after the training. perform a chi2 test to determine if there is a significant dfference between job performance level before and aafter the tarining.\n",
    "# sample data: job_performance level before (rows) and after (column) tnaining.\n",
    "data= np.array([[50,30,20], [30,40,30], [20,30,40]])\n",
    "\n",
    "chi2, p_value, dof, expected= chi2_contingency(data)\n",
    "\n",
    "print('chi2-value:',chi2_stat)\n",
    "print('p_value:',p_value)\n",
    "print('degree of freedom:',dof)"
   ]
  },
  {
   "cell_type": "code",
   "execution_count": 42,
   "id": "9b932079-47b5-4c2e-8450-13a2a69dde5c",
   "metadata": {},
   "outputs": [
    {
     "name": "stdout",
     "output_type": "stream",
     "text": [
      "F-statistics: 27.03556231003039\n",
      "p-value: 3.5786328857349003e-07\n"
     ]
    }
   ],
   "source": [
    "# 24. A companyproduces three difference versions of a product: standats, premium, and  deluxe. the company wnats to determine if there is a significant difference in costumer satisfaction score among the three product versions. they conducted a survey and ccollected costumer satisfaction scores for each version from a random sample of costumers. perform an ANOVA test to determine if there is a significant diffeene in costumer satisfaction scores.\n",
    "# sample data : costumer satisfaction scores for each product version\n",
    "\n",
    "data={\n",
    "        'standard_scores': [80,85,90,78,88,82,92,78,85,87],\n",
    "        \"premium_scores\":[90,92,88,92,95,91,96,93,89,93],\n",
    "        \"deluxe_scores\": [95,98,92,97,96,94,98,97,92,99]\n",
    "     }\n",
    "\n",
    "df=pd.DataFrame(data)\n",
    "# perform_one-way_anova\n",
    "\n",
    "f_stat, p_value = stats.f_oneway(df['standard_scores'], df['premium_scores'], df['deluxe_scores'])\n",
    "\n",
    "print(\"F-statistics:\",f_stat)\n",
    "print(\"p-value:\",p_value)"
   ]
  },
  {
   "cell_type": "code",
   "execution_count": null,
   "id": "07349aa0-61f8-47fc-beb6-7ee82538e42f",
   "metadata": {},
   "outputs": [],
   "source": []
  }
 ],
 "metadata": {
  "kernelspec": {
   "display_name": "Python 3 (ipykernel)",
   "language": "python",
   "name": "python3"
  },
  "language_info": {
   "codemirror_mode": {
    "name": "ipython",
    "version": 3
   },
   "file_extension": ".py",
   "mimetype": "text/x-python",
   "name": "python",
   "nbconvert_exporter": "python",
   "pygments_lexer": "ipython3",
   "version": "3.10.8"
  }
 },
 "nbformat": 4,
 "nbformat_minor": 5
}
